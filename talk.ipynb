{
 "cells": [
  {
   "cell_type": "markdown",
   "metadata": {},
   "source": [
    "# SQL, NoSQL, Big Data y todo lo demás\n",
    "\n",
    "![bohio](https://www.iesbohio.es/web/images/ies/logobohioreducido.png)\n",
    "\n",
    "Charla a los alumnos del IES El Bohio, 17 de noviembre de 2022."
   ]
  },
  {
   "cell_type": "markdown",
   "metadata": {},
   "source": [
    "## BohioControls !!!\n",
    "\n",
    "### Una empresa de control domótico de edificios\n",
    "\n",
    "![bohiocontrols](images/bohiocontrols.jpg)"
   ]
  },
  {
   "cell_type": "code",
   "execution_count": null,
   "metadata": {
    "scrolled": true
   },
   "outputs": [],
   "source": [
    "%load utils/functions.py"
   ]
  },
  {
   "cell_type": "code",
   "execution_count": null,
   "metadata": {
    "scrolled": true
   },
   "outputs": [],
   "source": [
    "from IPython.display import Image\n",
    "from pprint import pprint as pp\n",
    "import pandas as pd\n",
    "import matplotlib.pyplot as plt\n",
    "import matplotlib\n",
    "import json\n",
    "\n",
    "%matplotlib inline\n",
    "try:\n",
    "    matplotlib.style.use('seaborn-v0_8')\n",
    "except:\n",
    "    matplotlib.style.use('seaborn-white')"
   ]
  },
  {
   "cell_type": "code",
   "execution_count": null,
   "metadata": {},
   "outputs": [],
   "source": [
    "wooclap(\"(SQL)\")"
   ]
  },
  {
   "cell_type": "code",
   "execution_count": null,
   "metadata": {},
   "outputs": [],
   "source": [
    "wooclap('(NoSQL)')"
   ]
  },
  {
   "cell_type": "code",
   "execution_count": null,
   "metadata": {},
   "outputs": [],
   "source": [
    "wooclap('(JSON)')"
   ]
  },
  {
   "cell_type": "code",
   "execution_count": null,
   "metadata": {},
   "outputs": [],
   "source": [
    "yoda(u\"Para alcanzar la fuerza NoSQL debes conocer\")"
   ]
  },
  {
   "cell_type": "markdown",
   "metadata": {},
   "source": [
    "### Imaginemos\n",
    "\n",
    "Imaginemos que queremos realizar la sensorización (domótica) de un edificio."
   ]
  },
  {
   "cell_type": "markdown",
   "metadata": {},
   "source": [
    "![sensor1](images/sensor_kawaii1.PNG)\n",
    "![sensor1](images/sensor_kawaii2.PNG)"
   ]
  },
  {
   "cell_type": "markdown",
   "metadata": {},
   "source": [
    "![sensor_room](images/room_sensors.jpeg)"
   ]
  },
  {
   "cell_type": "code",
   "execution_count": null,
   "metadata": {},
   "outputs": [],
   "source": [
    "say(u\"Formato de sensor de temperatura/humedad\")"
   ]
  },
  {
   "cell_type": "code",
   "execution_count": null,
   "metadata": {},
   "outputs": [],
   "source": [
    "sayM(json.dumps({ \"id\" : 2, \"type\" : \"temp/humidity_v1\", \"temp\" : 25, \"humidity\": 40},indent=3), align='left')"
   ]
  },
  {
   "cell_type": "code",
   "execution_count": null,
   "metadata": {},
   "outputs": [],
   "source": [
    "say(u\"Formato de sensor de presencia\")"
   ]
  },
  {
   "cell_type": "code",
   "execution_count": null,
   "metadata": {},
   "outputs": [],
   "source": [
    "sayM(json.dumps({ \"id\" : 23, \"type\" : \"presence_v1\", \"person_detected\" : True},indent=3), align='left')"
   ]
  },
  {
   "cell_type": "code",
   "execution_count": null,
   "metadata": {},
   "outputs": [],
   "source": [
    "say(u\"Formato de sensor de luz\")"
   ]
  },
  {
   "cell_type": "code",
   "execution_count": null,
   "metadata": {},
   "outputs": [],
   "source": [
    "sayM(json.dumps({ \"id\" : 11, \"type\" : \"light_sensor_v1\", \"light_level\" : 10},indent=3), align='left')"
   ]
  },
  {
   "cell_type": "code",
   "execution_count": null,
   "metadata": {},
   "outputs": [],
   "source": [
    "say(u\"Vamos a probar con SQL...\")"
   ]
  },
  {
   "cell_type": "code",
   "execution_count": null,
   "metadata": {},
   "outputs": [],
   "source": [
    "%pip install ipython-sql"
   ]
  },
  {
   "cell_type": "code",
   "execution_count": null,
   "metadata": {},
   "outputs": [],
   "source": [
    "%load_ext sql"
   ]
  },
  {
   "cell_type": "markdown",
   "metadata": {},
   "source": [
    "Una base de datos en memoria... Para probar"
   ]
  },
  {
   "cell_type": "code",
   "execution_count": null,
   "metadata": {},
   "outputs": [],
   "source": [
    "%env DATABASE_URL=sqlite://?cache=shared"
   ]
  },
  {
   "cell_type": "code",
   "execution_count": null,
   "metadata": {},
   "outputs": [],
   "source": [
    "say(u'¿Cómo diseño el esquema?')"
   ]
  },
  {
   "cell_type": "code",
   "execution_count": null,
   "metadata": {},
   "outputs": [],
   "source": [
    "%%sql\n",
    "DROP TABLE IF EXISTS Buildings;\n",
    "CREATE TABLE Buildings\n",
    "(\n",
    "    id   INTEGER,\n",
    "    name TEXT,\n",
    "    PRIMARY KEY(id)\n",
    ");"
   ]
  },
  {
   "cell_type": "code",
   "execution_count": null,
   "metadata": {},
   "outputs": [],
   "source": [
    "%%sql\n",
    "DROP TABLE IF EXISTS Rooms;\n",
    "CREATE TABLE Rooms\n",
    "(\n",
    "    id   INTEGER,\n",
    "    name TEXT,\n",
    "    building_id INTEGER,\n",
    "    FOREIGN KEY(building_id) REFERENCES Buildings(id)\n",
    ");"
   ]
  },
  {
   "cell_type": "code",
   "execution_count": null,
   "metadata": {},
   "outputs": [],
   "source": [
    "%%sql\n",
    "DROP TABLE IF EXISTS Sensors;\n",
    "CREATE TABLE Sensors\n",
    "(\n",
    "    id   INTEGER,\n",
    "    type TEXT,\n",
    "    PRIMARY KEY(id)\n",
    ");"
   ]
  },
  {
   "cell_type": "code",
   "execution_count": null,
   "metadata": {},
   "outputs": [],
   "source": [
    "%%sql\n",
    "DROP TABLE IF EXISTS SensorsInRooms;\n",
    "CREATE TABLE SensorsInRooms\n",
    "(\n",
    "    room_id INTEGER,\n",
    "    sensor_id INTEGER,\n",
    "    FOREIGN KEY(room_id) REFERENCES Rooms(id),\n",
    "    FOREIGN KEY(sensor_id) REFERENCES Sensors(id),\n",
    "    PRIMARY KEY(room_id, sensor_id)\n",
    ");"
   ]
  },
  {
   "cell_type": "code",
   "execution_count": null,
   "metadata": {},
   "outputs": [],
   "source": [
    "%%sql\n",
    "DROP TABLE IF EXISTS Readings;\n",
    "CREATE TABLE Readings\n",
    "(\n",
    "    id        INTEGER,\n",
    "    timestamp INTEGER,\n",
    "    sensor_id INTEGER,\n",
    "    type      STRING,\n",
    "    -- datos de sensores\n",
    "    PRIMARY KEY(id),\n",
    "    FOREIGN KEY(sensor_id) REFERENCES Sensors(id)\n",
    ");"
   ]
  },
  {
   "cell_type": "code",
   "execution_count": null,
   "metadata": {},
   "outputs": [],
   "source": [
    "sayM(\n",
    "'''CREATE TABLE Readings\n",
    "(\n",
    "    id        INTEGER,\n",
    "    timestamp INTEGER,\n",
    "    sensor_id INTEGER,\n",
    "    type      STRING,\n",
    "    -- datos de sensores\n",
    "    PRIMARY KEY(id)\n",
    ");''')"
   ]
  },
  {
   "cell_type": "code",
   "execution_count": null,
   "metadata": {},
   "outputs": [],
   "source": [
    "%%capture\n",
    "# Añado los sensores!\n",
    "\n",
    "# Primero los de temperatura/humedad, 10 sensores, IDs 0 al 9\n",
    "for i in range(0,10):\n",
    "    %sql INSERT INTO Sensors VALUES (:i, \"temp/humidity_v1\")\n",
    "    \n",
    "# Sensores de luz, 10 sensores, IDs 10 al 19\n",
    "for i in range(10,20):\n",
    "    %sql INSERT INTO Sensors VALUES (:i, \"light_sensor_v1\")\n",
    "\n",
    "# Sensores de presencia, 10 sensores, IDs 20 al 29\n",
    "for i in range(20,30):\n",
    "    %sql INSERT INTO Sensors VALUES (:i, \"presence_v1\")"
   ]
  },
  {
   "cell_type": "code",
   "execution_count": null,
   "metadata": {
    "tags": []
   },
   "outputs": [],
   "source": [
    "%%sql\n",
    "select * from Sensors;"
   ]
  },
  {
   "cell_type": "code",
   "execution_count": null,
   "metadata": {},
   "outputs": [],
   "source": [
    "%%sql\n",
    "DROP TABLE IF EXISTS Readings;\n",
    "CREATE TABLE Readings\n",
    "(\n",
    "    id          INTEGER,\n",
    "    timestamp   INTEGER,\n",
    "    sensor_id   INTEGER,\n",
    "    type        STRING,\n",
    "    -- temp sensor\n",
    "    temp        REAL,\n",
    "    humidity    REAL,\n",
    "    -- light_sensor\n",
    "    light_level REAL,\n",
    "    -- presence sensor\n",
    "    person_detected INTEGER,\n",
    "    PRIMARY KEY(id),\n",
    "    FOREIGN KEY(sensor_id) REFERENCES Sensors(id)\n",
    ");"
   ]
  },
  {
   "cell_type": "code",
   "execution_count": null,
   "metadata": {},
   "outputs": [],
   "source": [
    "say(u'Insertamos algunas lecturas...')"
   ]
  },
  {
   "cell_type": "code",
   "execution_count": null,
   "metadata": {},
   "outputs": [],
   "source": [
    "%%capture\n",
    "import time\n",
    "import datetime\n",
    "import random\n",
    "\n",
    "for i in range(0,100):\n",
    "    now = datetime.datetime.now()\n",
    "    unix_timestamp = int(datetime.datetime.timestamp(now)*1000)\n",
    "    sensor_id = int(random.randrange(0,10))\n",
    "    temp = random.randrange(20,29)\n",
    "    humidity = random.randrange(40,80)\n",
    "    %sql INSERT INTO Readings VALUES (:i, :unix_timestamp, :sensor_id, \"temp/humidity_v1\", :temp, :humidity , NULL, NULL);\n",
    "\n",
    "for i in range(100,200):\n",
    "    now = datetime.datetime.now()\n",
    "    unix_timestamp = int(datetime.datetime.timestamp(now)*1000)\n",
    "    sensor_id = int(random.randrange(10,20))\n",
    "    light_level = random.randrange(0,100)\n",
    "    %sql INSERT INTO Readings VALUES (:i, :unix_timestamp, :sensor_id, \"light_sensor_v1\", NULL, NULL, :light_level, NULL);\n",
    "\n",
    "for i in range(200,300):\n",
    "    now = datetime.datetime.now()\n",
    "    unix_timestamp = int(datetime.datetime.timestamp(now)*1000)\n",
    "    sensor_id = int(random.randrange(20,30))\n",
    "    person_detected = 1 if random.random() >= 0.5 else 0\n",
    "    %sql INSERT INTO Readings VALUES (:i, :unix_timestamp, :sensor_id, \"presence_v1\", NULL, NULL, NULL, :person_detected);"
   ]
  },
  {
   "cell_type": "code",
   "execution_count": null,
   "metadata": {
    "tags": []
   },
   "outputs": [],
   "source": [
    "%%sql\n",
    "select * from Readings"
   ]
  },
  {
   "cell_type": "code",
   "execution_count": null,
   "metadata": {},
   "outputs": [],
   "source": [
    "say(\"Añado 5 habitaciones...\")"
   ]
  },
  {
   "cell_type": "code",
   "execution_count": null,
   "metadata": {},
   "outputs": [],
   "source": [
    "%%capture\n",
    "# Añado 1 edificio y 5 habitaciones\n",
    "\n",
    "%sql INSERT INTO Buildings VALUES(1, \"Edificio Principal\")\n",
    "\n",
    "for i in range(0,5):\n",
    "    hab = \"Habitación %d\" % (i)\n",
    "    %sql INSERT INTO Rooms VALUES (:i, :hab, 1)"
   ]
  },
  {
   "cell_type": "code",
   "execution_count": null,
   "metadata": {},
   "outputs": [],
   "source": [
    "%%sql \n",
    "select * from Rooms"
   ]
  },
  {
   "cell_type": "code",
   "execution_count": null,
   "metadata": {},
   "outputs": [],
   "source": [
    "say(u\"Mapeo de sensores a habitaciones...\")"
   ]
  },
  {
   "cell_type": "code",
   "execution_count": null,
   "metadata": {},
   "outputs": [],
   "source": [
    "%%capture\n",
    "\n",
    "for i in range(0,5):\n",
    "    for sensor in [0,5,10,15,20,25]:\n",
    "        sensor_final = i + sensor\n",
    "        %sql INSERT INTO SensorsInRooms VALUES (:i, :sensor_final)"
   ]
  },
  {
   "cell_type": "code",
   "execution_count": null,
   "metadata": {
    "tags": []
   },
   "outputs": [],
   "source": [
    "%%sql\n",
    "select * from SensorsInRooms;"
   ]
  },
  {
   "cell_type": "code",
   "execution_count": null,
   "metadata": {},
   "outputs": [],
   "source": [
    "say(u\"Lecturas por habitaciones... (habitación 1)\")"
   ]
  },
  {
   "cell_type": "code",
   "execution_count": null,
   "metadata": {},
   "outputs": [],
   "source": [
    "%%sql\n",
    "select * \n",
    "from Readings r JOIN SensorsInRooms sir ON r.sensor_id = sir.sensor_id\n",
    "WHERE sir.room_id == 1"
   ]
  },
  {
   "cell_type": "code",
   "execution_count": null,
   "metadata": {},
   "outputs": [],
   "source": [
    "say(u\"Empiezan los problemas...\")"
   ]
  },
  {
   "cell_type": "code",
   "execution_count": null,
   "metadata": {},
   "outputs": [],
   "source": [
    "say(u\"Formato de sensor de temperatura/humedad, V2!!!!\")"
   ]
  },
  {
   "cell_type": "code",
   "execution_count": null,
   "metadata": {},
   "outputs": [],
   "source": [
    "sayM(json.dumps({ \"id\" : 2, \"type\" : \"temp/humidity_v2\", \"temp\" : 25, \"humidity\": 40, \"air_quality\": 2},indent=3))"
   ]
  },
  {
   "cell_type": "code",
   "execution_count": null,
   "metadata": {},
   "outputs": [],
   "source": [
    "say(u\"NoSQL\")"
   ]
  },
  {
   "cell_type": "code",
   "execution_count": null,
   "metadata": {},
   "outputs": [],
   "source": [
    "say(u\"NoSQL:\\n¡Mira mamá! ¡No SQL!\")"
   ]
  },
  {
   "cell_type": "code",
   "execution_count": null,
   "metadata": {},
   "outputs": [],
   "source": [
    "say(u\"NoSQL:\\nSchemaless!\")"
   ]
  },
  {
   "cell_type": "code",
   "execution_count": null,
   "metadata": {},
   "outputs": [],
   "source": [
    "say(u\"NoSQL:\\nFree/Open Source!\")"
   ]
  },
  {
   "cell_type": "code",
   "execution_count": null,
   "metadata": {},
   "outputs": [],
   "source": [
    "say(u\"NoSQL:\\n¡Escalabilidad!\")"
   ]
  },
  {
   "cell_type": "code",
   "execution_count": null,
   "metadata": {},
   "outputs": [],
   "source": [
    "say(u\"NoSQL:\\n¡Estructuras de datos complejas!\")"
   ]
  },
  {
   "cell_type": "code",
   "execution_count": null,
   "metadata": {},
   "outputs": [],
   "source": [
    "say(u\"NoSQL — Cuatro tipos:\\n - Clave/valor\\n - Documentos\\n - Columnares\\n - Grafos\", align=\"left\")"
   ]
  },
  {
   "cell_type": "code",
   "execution_count": null,
   "metadata": {},
   "outputs": [],
   "source": [
    "Image(\"images/nosql-history.png\")"
   ]
  },
  {
   "attachments": {
    "MongoDB-Logo-5c3a7405a85675366beb3a5ec4c032348c390b3f142f5e6dddf1d78e2df5cb5c.png": {
     "image/png": "[encoded data removed]"
    }
   },
   "cell_type": "markdown",
   "metadata": {},
   "source": [
    "# MongoDB (documentos)\n",
    "\n",
    "![Image of MongoDB](attachment:MongoDB-Logo-5c3a7405a85675366beb3a5ec4c032348c390b3f142f5e6dddf1d78e2df5cb5c.png)\n",
    "\n",
    "Base de datos documental que usaremos como ejemplo. Una de las más extendidas:\n",
    "\n",
    "- Modelo de documentos JSON (BSON, en binario, usado para eficiencia)\n",
    "- Map-Reduce para transformaciones de la base de datos y consultas\n",
    "- Lenguaje propio de manipulación de la base de datos llamado \"de agregación\" (aggregate)\n",
    "- Soporta sharding (distribución de partes de la BD en distintos nodos)\n",
    "- Soporta replicación (copias sincronizadas master-slave en distintos nodos)\n",
    "- No soporta ACID\n",
    "- La transacción se realiza a nivel de **DOCUMENTO**"
   ]
  },
  {
   "cell_type": "code",
   "execution_count": null,
   "metadata": {},
   "outputs": [],
   "source": [
    "%pip install pymongo"
   ]
  },
  {
   "cell_type": "code",
   "execution_count": null,
   "metadata": {
    "scrolled": true
   },
   "outputs": [],
   "source": [
    "import pymongo\n",
    "import codecs\n",
    "\n",
    "from pymongo import MongoClient\n",
    "passw = codecs.encode('ObuvbPbagebyf22', 'rot_13')\n",
    "client = MongoClient(\"mongodb://root:%s@neuromancer.inf.um.es\" % (passw), 27000)\n",
    "client"
   ]
  },
  {
   "cell_type": "code",
   "execution_count": null,
   "metadata": {},
   "outputs": [],
   "source": [
    "say(u'¡¡¡Vamos a añadir valores de los sensores!!!')"
   ]
  },
  {
   "cell_type": "code",
   "execution_count": null,
   "metadata": {},
   "outputs": [],
   "source": [
    "sayM(u\"http://neuromancer.inf.um.es:5000\")"
   ]
  },
  {
   "cell_type": "markdown",
   "metadata": {},
   "source": [
    "http://neuromancer.inf.um.es:5000/"
   ]
  },
  {
   "cell_type": "markdown",
   "metadata": {},
   "source": [
    "![selectsensor](images/select_sensor.png)"
   ]
  },
  {
   "cell_type": "markdown",
   "metadata": {},
   "source": [
    "![temp_sensor](images/temp_sensor.png)"
   ]
  },
  {
   "cell_type": "markdown",
   "metadata": {},
   "source": [
    "Accedemos a la base de datos `bohiocontrols`:"
   ]
  },
  {
   "cell_type": "code",
   "execution_count": null,
   "metadata": {
    "scrolled": true
   },
   "outputs": [],
   "source": [
    "db = client.bohiocontrols"
   ]
  },
  {
   "cell_type": "markdown",
   "metadata": {},
   "source": [
    "Y la colección `readings`:"
   ]
  },
  {
   "cell_type": "code",
   "execution_count": null,
   "metadata": {
    "scrolled": true
   },
   "outputs": [],
   "source": [
    "readings = db.readings"
   ]
  },
  {
   "cell_type": "code",
   "execution_count": null,
   "metadata": {},
   "outputs": [],
   "source": [
    "list(readings.find({},limit=20))"
   ]
  },
  {
   "cell_type": "code",
   "execution_count": null,
   "metadata": {},
   "outputs": [],
   "source": [
    "say(u'¿Qué pasa con \"temp/humidity_v2\"?')"
   ]
  },
  {
   "cell_type": "code",
   "execution_count": null,
   "metadata": {},
   "outputs": [],
   "source": [
    "import datetime\n",
    "now = datetime.datetime.now()\n",
    "unix_timestamp = int(datetime.datetime.timestamp(now)*1000)\n",
    "readings.insert_one({'sensor_id': 30, \n",
    "                     \"timestamp\": unix_timestamp, \n",
    "                     \"type\" : \"temp/humidity_v2\",\n",
    "                     \"temp\" : 25,\n",
    "                     \"humidity\": 40,\n",
    "                     \"air_quality\": 2})"
   ]
  },
  {
   "cell_type": "code",
   "execution_count": null,
   "metadata": {},
   "outputs": [],
   "source": [
    "readings.find_one({'sensor_id': 30})"
   ]
  },
  {
   "cell_type": "code",
   "execution_count": null,
   "metadata": {
    "scrolled": true
   },
   "outputs": [],
   "source": [
    "client.list_database_names()"
   ]
  },
  {
   "cell_type": "code",
   "execution_count": null,
   "metadata": {},
   "outputs": [],
   "source": [
    "all_temp_readings = list(readings.find({'type' : 'temp/humidity_v1'}))"
   ]
  },
  {
   "cell_type": "code",
   "execution_count": null,
   "metadata": {},
   "outputs": [],
   "source": [
    "df = pd.DataFrame.from_dict(all_temp_readings)"
   ]
  },
  {
   "cell_type": "code",
   "execution_count": null,
   "metadata": {},
   "outputs": [],
   "source": [
    "from datetime import datetime\n",
    "df['timestamp'] = [datetime.fromtimestamp(x/1000) for x in df['timestamp']]"
   ]
  },
  {
   "cell_type": "code",
   "execution_count": null,
   "metadata": {},
   "outputs": [],
   "source": [
    "df.index = df.timestamp"
   ]
  },
  {
   "cell_type": "code",
   "execution_count": null,
   "metadata": {},
   "outputs": [],
   "source": [
    "df.temp.plot()"
   ]
  },
  {
   "cell_type": "code",
   "execution_count": null,
   "metadata": {},
   "outputs": [],
   "source": [
    "df.temp.plot(kind='bar')"
   ]
  },
  {
   "cell_type": "code",
   "execution_count": null,
   "metadata": {},
   "outputs": [],
   "source": [
    "df.humidity.plot()"
   ]
  },
  {
   "cell_type": "code",
   "execution_count": null,
   "metadata": {},
   "outputs": [],
   "source": [
    "say(u\"Habitaciones con sensores en el caso de MongoDB\")"
   ]
  },
  {
   "cell_type": "code",
   "execution_count": null,
   "metadata": {},
   "outputs": [],
   "source": [
    "for i in range(0,5):\n",
    "    db.rooms.insert_one({\"id\": i,\n",
    "                         \"name\": \"Habitación %d\" % (i),\n",
    "                         \"building_id\" : 1,\n",
    "                         \"sensors\" : [r for r in range(i, 30, 5)]})"
   ]
  },
  {
   "cell_type": "code",
   "execution_count": null,
   "metadata": {},
   "outputs": [],
   "source": [
    "import pprint\n",
    "sayM(pprint.pformat(db.rooms.find_one(),indent=2))"
   ]
  },
  {
   "cell_type": "code",
   "execution_count": null,
   "metadata": {},
   "outputs": [],
   "source": [
    "say(u'Los sensores se pueden añadir como una lista\\n[0, 5, 10, 15, 20, 25]')"
   ]
  },
  {
   "cell_type": "code",
   "execution_count": null,
   "metadata": {},
   "outputs": [],
   "source": [
    "say(u'Pero imaginemos que queremos saber el último valor de cada sensor\\n(Lo más rápido posible)')"
   ]
  },
  {
   "cell_type": "code",
   "execution_count": null,
   "metadata": {},
   "outputs": [],
   "source": [
    "%%sql\n",
    "select * from Readings WHERE sensor_id = 1 ORDER BY timestamp DESC LIMIT 1;"
   ]
  },
  {
   "cell_type": "code",
   "execution_count": null,
   "metadata": {},
   "outputs": [],
   "source": [
    "say(u'Requiere del uso de una búsqueda por la tabla.\\nSe puede usar un índice, pero...')"
   ]
  },
  {
   "cell_type": "code",
   "execution_count": null,
   "metadata": {},
   "outputs": [],
   "source": [
    "%pip install redis[hiredis]"
   ]
  },
  {
   "cell_type": "code",
   "execution_count": null,
   "metadata": {},
   "outputs": [],
   "source": [
    "from IPython.display import SVG\n",
    "SVG('images/redis.svg')"
   ]
  },
  {
   "cell_type": "code",
   "execution_count": null,
   "metadata": {},
   "outputs": [],
   "source": [
    "import redis\n",
    "r = redis.Redis(host='neuromancer.inf.um.es', port=6300, db=0)\n",
    "r.set('foo', 'bar')\n",
    "r.get('foo')"
   ]
  },
  {
   "cell_type": "code",
   "execution_count": null,
   "metadata": {},
   "outputs": [],
   "source": [
    "say(u'Big Data!')"
   ]
  },
  {
   "cell_type": "markdown",
   "metadata": {},
   "source": [
    "![internet_one_minute](https://www.visualcapitalist.com/wp-content/uploads/2021/11/data-never-sleeps-9-1.0-1200px-1.png)"
   ]
  },
  {
   "cell_type": "code",
   "execution_count": null,
   "metadata": {},
   "outputs": [],
   "source": [
    "yoda(u'May the force be with you')"
   ]
  },
  {
   "cell_type": "code",
   "execution_count": null,
   "metadata": {},
   "outputs": [],
   "source": [
    "chew('Grrrrrrrrrr!')"
   ]
  }
 ],
 "metadata": {
  "kernelspec": {
   "display_name": "Python 3 (ipykernel)",
   "language": "python",
   "name": "python3"
  },
  "language_info": {
   "codemirror_mode": {
    "name": "ipython",
    "version": 3
   },
   "file_extension": ".py",
   "mimetype": "text/x-python",
   "name": "python",
   "nbconvert_exporter": "python",
   "pygments_lexer": "ipython3",
   "version": "3.10.6"
  }
 },
 "nbformat": 4,
 "nbformat_minor": 4
}
